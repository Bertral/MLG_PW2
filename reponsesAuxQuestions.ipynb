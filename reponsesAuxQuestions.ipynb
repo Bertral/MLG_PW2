{
 "cells": [
  {
   "cell_type": "markdown",
   "metadata": {},
   "source": [
    "# 1. Explore the “hold_out_validation” notebook\n",
    "### Q1. Determine where do we define all the above mentioned parameters.\n",
    "Observe that we run the evaluation procedure on four different problems. Each problem is\n",
    "a two-class two-dimensional problem, where the two sets are more and more overlapped\n",
    "(e.g., the synthetic datasets are randomly generated using variances of 0.4, 0.5, 0.6 and\n",
    "0.7).\n",
    "###  Q2. What are the cyan and red curves in those plots ? Why are they different ?\n",
    "###  Q3. What happens with the training and test errors (MSE) when we have the two sets\n",
    "more overlapped ?\n",
    "###  Q4. Why sometimes the red curves indicate a higher error than the cyan ones ?\n",
    "###  Q5. What is showing the boxplot summarizing the validation errors of the preceding\n",
    "experiments ?\n",
    "# 2. Explore the “cross_validation” notebook\n",
    "### Q1. Determine where do we define all the above mentioned parameters.\n",
    "### Q2. What is the difference between hold-out and cross-validation ? What is the new\n",
    "parameter that has to be defined for cross-validation ?\n",
    "### Q3. Observe the boxplots summarizing the validation errors obtained using the cross-\n",
    "validation method and compare them with those obtained by hold-out validation.\n",
    "\n",
    "\n",
    "# Report\n",
    "### 0. For each of the following experiments, provide a brief description of the number of\n",
    "observations of each class, the features being used to train the model, the procedure\n",
    "(explain) for selecting the final model (e.g., use the model_building.ipynb notebook), the\n",
    "description of the final model and its evaluation (i.e., provide the cross-validation results,\n",
    "the confusion matrix and the F-score). Comment your results.\n",
    "### 1. Man vs Woman. Use only the natural voices of men and women to train a neural\n",
    "network that recognizes the gender of the speaker. T\n",
    "### 2. Man vs. children. Proceed as explained in 0 but using only man and children voices.\n",
    "### 3. Woman vs. children. Proceed as explained in 0 but using only woman and children\n",
    "voices.\n",
    "### 4. Man vs. Woman vs. children. Proceed as explained in 0.\n",
    "### 5. Natural vs. synthetic voices. Proceed as explained in 0.\n",
    "### 6. Design a final experiment of your choice (e.g., using your own voice). Proceed as\n",
    "explained in 0.\n"
   ]
  }
 ],
 "metadata": {
  "kernelspec": {
   "display_name": "Python 3",
   "language": "python",
   "name": "python3"
  },
  "language_info": {
   "codemirror_mode": {
    "name": "ipython",
    "version": 3
   },
   "file_extension": ".py",
   "mimetype": "text/x-python",
   "name": "python",
   "nbconvert_exporter": "python",
   "pygments_lexer": "ipython3",
   "version": "3.6.4"
  }
 },
 "nbformat": 4,
 "nbformat_minor": 2
}
