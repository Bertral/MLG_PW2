{
 "cells": [
  {
   "cell_type": "code",
   "execution_count": 1,
   "metadata": {},
   "outputs": [],
   "source": [
    "import numpy as np\n",
    "from matplotlib import pyplot as pl\n",
    "import os\n",
    "import scipy.io.wavfile as wav\n",
    "from python_speech_features import mfcc\n",
    "\n",
    "%matplotlib inline"
   ]
  },
  {
   "cell_type": "code",
   "execution_count": 13,
   "metadata": {},
   "outputs": [],
   "source": [
    "PATH = 'vowels/'\n",
    "MALE = 'm'\n",
    "FEMALE = 'f'\n",
    "KID = 'k'"
   ]
  },
  {
   "cell_type": "code",
   "execution_count": 28,
   "metadata": {
    "scrolled": false
   },
   "outputs": [
    {
     "name": "stdout",
     "output_type": "stream",
     "text": [
      "(-4.611745999023921, 7, 'm')\n"
     ]
    }
   ],
   "source": [
    "mfccs = []\n",
    "\n",
    "for filename in os.listdir(PATH):\n",
    "    if filename.endswith('.wav'):\n",
    "        sample_rate, X = wav.read(os.path.join(PATH, filename))\n",
    "        ceps = mfcc(X, samplerate=sample_rate, nfft=1024)\n",
    "        \n",
    "        speaker = ''\n",
    "        if filename[2] == 'm':\n",
    "            speaker = MALE\n",
    "        elif filename[2] == 'f':\n",
    "            speaker = FEMALE\n",
    "        elif filename[1] == 'k':\n",
    "            speaker = KID\n",
    "        else:\n",
    "            continue\n",
    "        \n",
    "        for window in ceps:\n",
    "            i = 0\n",
    "            for sample in window:\n",
    "                mfccs.append((sample, i, speaker))\n",
    "                i+=1\n",
    "# mfccs contient désormais toutes les valeurs de mfcc, ainsi que la position du mfcc dans la window et le type de speaker\n"
   ]
  }
 ],
 "metadata": {
  "kernelspec": {
   "display_name": "Python 3",
   "language": "python",
   "name": "python3"
  },
  "language_info": {
   "codemirror_mode": {
    "name": "ipython",
    "version": 3
   },
   "file_extension": ".py",
   "mimetype": "text/x-python",
   "name": "python",
   "nbconvert_exporter": "python",
   "pygments_lexer": "ipython3",
   "version": "3.6.4"
  }
 },
 "nbformat": 4,
 "nbformat_minor": 2
}
