{
 "cells": [
  {
   "cell_type": "code",
   "execution_count": 1,
   "metadata": {},
   "outputs": [],
   "source": [
    "import numpy as np\n",
    "from matplotlib import pyplot as pl\n",
    "import os\n",
    "import scipy.io.wavfile as wav\n",
    "from python_speech_features import mfcc\n",
    "import utils.mlp_backprop_momentum as mlp\n",
    "import utils.k_fold_cross_validation as cv\n",
    "\n",
    "%matplotlib inline"
   ]
  },
  {
   "cell_type": "code",
   "execution_count": 2,
   "metadata": {},
   "outputs": [],
   "source": [
    "PATH = 'vowels/'\n",
    "\n",
    "MALE = [1,-1,-1]\n",
    "FEMALE = [-1,1,-1]\n",
    "KID = [-1,-1,1]\n"
   ]
  },
  {
   "cell_type": "code",
   "execution_count": 3,
   "metadata": {
    "scrolled": false
   },
   "outputs": [],
   "source": [
    "mfccs = []\n",
    "\n",
    "for filename in os.listdir(PATH):\n",
    "    if filename.endswith('.wav'):\n",
    "        sample_rate, X = wav.read(os.path.join(PATH, filename))\n",
    "        ceps = np.mean(mfcc(X, samplerate=sample_rate, nfft=1024), axis=0)\n",
    "        \n",
    "        speaker = MALE\n",
    "        if filename[2] == 'm':\n",
    "            speaker = MALE\n",
    "        elif filename[2] == 'f':\n",
    "            speaker = FEMALE\n",
    "        elif filename[1] == 'k':\n",
    "            speaker = KID\n",
    "        else:\n",
    "            continue\n",
    "            \n",
    "        ceps = np.append(ceps, speaker)\n",
    "        mfccs.append(ceps)\n",
    "        \n",
    "mfccs = np.array(mfccs)\n",
    "mfccs = mfccs - mfccs.min(axis=0)\n",
    "mfccs = mfccs / mfccs.max(axis=0)\n",
    "mfccs = mfccs * 2 - 1\n",
    "        \n",
    "# mfccs contient désormais toutes les valeurs de mfcc, ainsi que la position du mfcc dans la window et le type de speaker"
   ]
  },
  {
   "cell_type": "code",
   "execution_count": 4,
   "metadata": {},
   "outputs": [
    {
     "data": {
      "text/plain": [
       "array([[ 0.46461765, -0.52752412,  0.36474408, ..., -1.        ,\n",
       "        -1.        ,  1.        ],\n",
       "       [ 0.43507974, -0.36574898, -0.10970382, ..., -1.        ,\n",
       "        -1.        ,  1.        ],\n",
       "       [ 0.27572612,  0.18993969, -0.4100183 , ..., -1.        ,\n",
       "         1.        , -1.        ],\n",
       "       ...,\n",
       "       [ 0.1968931 , -0.43617008, -0.02637636, ...,  1.        ,\n",
       "        -1.        , -1.        ],\n",
       "       [ 1.        , -0.41982229, -0.22460435, ..., -1.        ,\n",
       "        -1.        ,  1.        ],\n",
       "       [ 0.33870224,  0.05426988, -0.44070258, ..., -1.        ,\n",
       "        -1.        ,  1.        ]])"
      ]
     },
     "execution_count": 4,
     "metadata": {},
     "output_type": "execute_result"
    }
   ],
   "source": [
    "mfccs"
   ]
  },
  {
   "cell_type": "code",
   "execution_count": 5,
   "metadata": {},
   "outputs": [],
   "source": [
    "# learning \n",
    "\n",
    "DATASET_SIZE = len(mfccs)\n",
    "SPREAD = 0.7\n",
    "dataset = mfccs\n",
    "N_INITS = 10\n",
    "EPOCHS = 200 #nb d'iterations\n",
    "N_NEURONS = [13, 6, 3]\n",
    "LEARNING_RATE = 0.001\n",
    "MOMENTUM = 0.5\n",
    "K=5\n",
    "\n",
    "MSE_train, MSE_test, conf_mat = cv.k_fold_cross_validation(mlp.MLP(N_NEURONS, activation='tanh'),\n",
    "                                                          dataset,\n",
    "                                                          k=K,\n",
    "                                                          learning_rate=LEARNING_RATE,\n",
    "                                                          momentum=MOMENTUM,\n",
    "                                                          epochs=EPOCHS,\n",
    "                                                          threshold=0.5)"
   ]
  },
  {
   "cell_type": "code",
   "execution_count": null,
   "metadata": {},
   "outputs": [],
   "source": []
  }
 ],
 "metadata": {
  "kernelspec": {
   "display_name": "Python 3",
   "language": "python",
   "name": "python3"
  },
  "language_info": {
   "codemirror_mode": {
    "name": "ipython",
    "version": 3
   },
   "file_extension": ".py",
   "mimetype": "text/x-python",
   "name": "python",
   "nbconvert_exporter": "python",
   "pygments_lexer": "ipython3",
   "version": "3.6.4"
  }
 },
 "nbformat": 4,
 "nbformat_minor": 2
}
